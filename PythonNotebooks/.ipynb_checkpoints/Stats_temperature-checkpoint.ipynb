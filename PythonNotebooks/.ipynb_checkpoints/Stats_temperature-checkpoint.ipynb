{
 "cells": [
  {
   "cell_type": "markdown",
   "id": "14f7de1e",
   "metadata": {},
   "source": [
    "# Temperature"
   ]
  },
  {
   "cell_type": "code",
   "execution_count": 1,
   "id": "70678b15",
   "metadata": {},
   "outputs": [],
   "source": [
    "import pandas as pd\n",
    "import numpy as np\n",
    "from scipy import stats\n",
    "from scipy.stats import fisher_exact\n",
    "\n",
    "data = pd.read_csv(filepath_or_buffer='../../../Archive/HTWTempRatios.csv')\n",
    "data[\"HTW\"] = (data['DoS15km'] >= 0.25) | (data['DoS20km'] >= 0.25)\n",
    "temp = [21.7, 16.6, 13.6, 25, 18.9, 14.7, 15.1, 13.9, 20, 19.4]\n",
    "years = [2010,2011,2012,2013,2014,2015,2016,2017,2018,2019]\n",
    "runners = list(map (lambda x: len(data.loc[data['Year'] == x].index), years))\n",
    "female = list(map (lambda x: len(data.loc[(data['Year'] == x) & (data['Gender'] == 'F')].index), years))\n",
    "male = list(map (lambda x: len(data.loc[(data['Year'] == x) & (data['Gender'] == 'M')].index), years))\n",
    "avg_time = list(map (lambda x: ((data.loc[(data['Year'] == x)])['Time']).mean(), years))\n",
    "avg_time_f = list(map (lambda x: ((data.loc[(data['Year'] == x) & (data['Gender'] == 'F')])['Time']).mean(), years))\n",
    "avg_time_m = list(map (lambda x: ((data.loc[(data['Year'] == x) & (data['Gender'] == 'M')])['Time']).mean(), years))\n",
    "htw = list(map (lambda x: len(data.loc[(data['Year'] == x) & (data['HTW'] == True)].index), years))\n",
    "htw_f = list(map (lambda x: len(data.loc[(data['Year'] == x) & (data['HTW'] == True) & (data['Gender'] == 'F')].index), years))\n",
    "htw_m = list(map (lambda x: len(data.loc[(data['Year'] == x) & (data['HTW'] == True) & (data['Gender'] == 'M')].index), years))\n",
    "neg_split = list(map (lambda x: len(data.loc[(data['Year'] == x) & (data['SplitRatio'] <= 1)].index), years))\n",
    "neg_split_f = list(map (lambda x: len(data.loc[(data['Year'] == x) & (data['SplitRatio'] <= 1) & (data['Gender'] == 'F')].index), years))\n",
    "neg_split_m = list(map (lambda x: len(data.loc[(data['Year'] == x) & (data['SplitRatio'] <= 1) & (data['Gender'] == 'M')].index), years))\n",
    "\n",
    "d =  {'Year': years, 'Temp': temp, 'Runners': runners,'Female': female, 'Male': male, \n",
    "      'Avg Time' : avg_time, 'Avg Time F' : avg_time_f, 'Avg Time M' : avg_time_m,\n",
    "      'HTW': htw, 'HTW F': htw_f, 'HTW M' : htw_m, 'Neg Split' : neg_split, \n",
    "     'Neg Split F' : neg_split_f, 'Neg Split M' : neg_split_m}\n",
    "df = pd.DataFrame(data=d)\n",
    "df['HTW%'] = df['HTW'] / df['Runners']\n",
    "df['F HTW%'] = df['HTW F'] / df['Female']\n",
    "df['M HTW%'] = df['HTW M'] / df['Male']\n",
    "df['Neg Split%'] = df['Neg Split'] / df['Runners']\n",
    "df['F Neg Split%'] = df['Neg Split F'] / df['Female']\n",
    "df['M Neg Split%'] = df['Neg Split M'] / df['Male']"
   ]
  },
  {
   "cell_type": "code",
   "execution_count": 2,
   "id": "95dd0cb9",
   "metadata": {},
   "outputs": [
    {
     "data": {
      "text/html": [
       "<div>\n",
       "<style scoped>\n",
       "    .dataframe tbody tr th:only-of-type {\n",
       "        vertical-align: middle;\n",
       "    }\n",
       "\n",
       "    .dataframe tbody tr th {\n",
       "        vertical-align: top;\n",
       "    }\n",
       "\n",
       "    .dataframe thead th {\n",
       "        text-align: right;\n",
       "    }\n",
       "</style>\n",
       "<table border=\"1\" class=\"dataframe\">\n",
       "  <thead>\n",
       "    <tr style=\"text-align: right;\">\n",
       "      <th></th>\n",
       "      <th>Year</th>\n",
       "      <th>Temp</th>\n",
       "      <th>Runners</th>\n",
       "      <th>Female</th>\n",
       "      <th>Male</th>\n",
       "      <th>Avg Time</th>\n",
       "      <th>Avg Time F</th>\n",
       "      <th>Avg Time M</th>\n",
       "      <th>HTW</th>\n",
       "      <th>HTW F</th>\n",
       "      <th>HTW M</th>\n",
       "      <th>Neg Split</th>\n",
       "      <th>Neg Split F</th>\n",
       "      <th>Neg Split M</th>\n",
       "      <th>HTW%</th>\n",
       "      <th>F HTW%</th>\n",
       "      <th>M HTW%</th>\n",
       "      <th>Neg Split%</th>\n",
       "      <th>F Neg Split%</th>\n",
       "      <th>M Neg Split%</th>\n",
       "    </tr>\n",
       "  </thead>\n",
       "  <tbody>\n",
       "    <tr>\n",
       "      <th>0</th>\n",
       "      <td>2010</td>\n",
       "      <td>21.7</td>\n",
       "      <td>37982</td>\n",
       "      <td>10996</td>\n",
       "      <td>26986</td>\n",
       "      <td>7643.674056</td>\n",
       "      <td>8145.278192</td>\n",
       "      <td>7439.285148</td>\n",
       "      <td>5141</td>\n",
       "      <td>622</td>\n",
       "      <td>4519</td>\n",
       "      <td>2171</td>\n",
       "      <td>740</td>\n",
       "      <td>1431</td>\n",
       "      <td>0.135354</td>\n",
       "      <td>0.056566</td>\n",
       "      <td>0.167457</td>\n",
       "      <td>0.057159</td>\n",
       "      <td>0.067297</td>\n",
       "      <td>0.053027</td>\n",
       "    </tr>\n",
       "    <tr>\n",
       "      <th>1</th>\n",
       "      <td>2011</td>\n",
       "      <td>16.6</td>\n",
       "      <td>42838</td>\n",
       "      <td>13179</td>\n",
       "      <td>29659</td>\n",
       "      <td>7263.707736</td>\n",
       "      <td>7798.754989</td>\n",
       "      <td>7025.959068</td>\n",
       "      <td>2358</td>\n",
       "      <td>507</td>\n",
       "      <td>1851</td>\n",
       "      <td>5940</td>\n",
       "      <td>1597</td>\n",
       "      <td>4343</td>\n",
       "      <td>0.055045</td>\n",
       "      <td>0.038470</td>\n",
       "      <td>0.062409</td>\n",
       "      <td>0.138662</td>\n",
       "      <td>0.121178</td>\n",
       "      <td>0.146431</td>\n",
       "    </tr>\n",
       "    <tr>\n",
       "      <th>2</th>\n",
       "      <td>2012</td>\n",
       "      <td>13.6</td>\n",
       "      <td>44094</td>\n",
       "      <td>13750</td>\n",
       "      <td>30344</td>\n",
       "      <td>7208.821881</td>\n",
       "      <td>7749.826618</td>\n",
       "      <td>6963.672423</td>\n",
       "      <td>2768</td>\n",
       "      <td>607</td>\n",
       "      <td>2161</td>\n",
       "      <td>6297</td>\n",
       "      <td>1725</td>\n",
       "      <td>4572</td>\n",
       "      <td>0.062775</td>\n",
       "      <td>0.044145</td>\n",
       "      <td>0.071217</td>\n",
       "      <td>0.142809</td>\n",
       "      <td>0.125455</td>\n",
       "      <td>0.150672</td>\n",
       "    </tr>\n",
       "    <tr>\n",
       "      <th>3</th>\n",
       "      <td>2013</td>\n",
       "      <td>25.0</td>\n",
       "      <td>44919</td>\n",
       "      <td>14814</td>\n",
       "      <td>30105</td>\n",
       "      <td>7747.183441</td>\n",
       "      <td>8205.571756</td>\n",
       "      <td>7521.620761</td>\n",
       "      <td>6189</td>\n",
       "      <td>1123</td>\n",
       "      <td>5066</td>\n",
       "      <td>2997</td>\n",
       "      <td>1178</td>\n",
       "      <td>1819</td>\n",
       "      <td>0.137781</td>\n",
       "      <td>0.075807</td>\n",
       "      <td>0.168278</td>\n",
       "      <td>0.066720</td>\n",
       "      <td>0.079519</td>\n",
       "      <td>0.060422</td>\n",
       "    </tr>\n",
       "    <tr>\n",
       "      <th>4</th>\n",
       "      <td>2014</td>\n",
       "      <td>18.9</td>\n",
       "      <td>47187</td>\n",
       "      <td>16323</td>\n",
       "      <td>30864</td>\n",
       "      <td>7458.688389</td>\n",
       "      <td>7989.805060</td>\n",
       "      <td>7177.797466</td>\n",
       "      <td>5007</td>\n",
       "      <td>1179</td>\n",
       "      <td>3828</td>\n",
       "      <td>3165</td>\n",
       "      <td>1058</td>\n",
       "      <td>2107</td>\n",
       "      <td>0.106110</td>\n",
       "      <td>0.072229</td>\n",
       "      <td>0.124028</td>\n",
       "      <td>0.067074</td>\n",
       "      <td>0.064817</td>\n",
       "      <td>0.068267</td>\n",
       "    </tr>\n",
       "    <tr>\n",
       "      <th>5</th>\n",
       "      <td>2015</td>\n",
       "      <td>14.7</td>\n",
       "      <td>46207</td>\n",
       "      <td>16086</td>\n",
       "      <td>30121</td>\n",
       "      <td>7335.203281</td>\n",
       "      <td>7845.001865</td>\n",
       "      <td>7062.947379</td>\n",
       "      <td>3339</td>\n",
       "      <td>794</td>\n",
       "      <td>2545</td>\n",
       "      <td>5139</td>\n",
       "      <td>1592</td>\n",
       "      <td>3547</td>\n",
       "      <td>0.072262</td>\n",
       "      <td>0.049360</td>\n",
       "      <td>0.084493</td>\n",
       "      <td>0.111217</td>\n",
       "      <td>0.098968</td>\n",
       "      <td>0.117758</td>\n",
       "    </tr>\n",
       "    <tr>\n",
       "      <th>6</th>\n",
       "      <td>2016</td>\n",
       "      <td>15.1</td>\n",
       "      <td>44972</td>\n",
       "      <td>15662</td>\n",
       "      <td>29310</td>\n",
       "      <td>7343.250111</td>\n",
       "      <td>7876.157323</td>\n",
       "      <td>7058.487479</td>\n",
       "      <td>2522</td>\n",
       "      <td>573</td>\n",
       "      <td>1949</td>\n",
       "      <td>4442</td>\n",
       "      <td>1601</td>\n",
       "      <td>2841</td>\n",
       "      <td>0.056079</td>\n",
       "      <td>0.036585</td>\n",
       "      <td>0.066496</td>\n",
       "      <td>0.098773</td>\n",
       "      <td>0.102222</td>\n",
       "      <td>0.096929</td>\n",
       "    </tr>\n",
       "    <tr>\n",
       "      <th>7</th>\n",
       "      <td>2017</td>\n",
       "      <td>13.9</td>\n",
       "      <td>42252</td>\n",
       "      <td>14557</td>\n",
       "      <td>27695</td>\n",
       "      <td>7323.356078</td>\n",
       "      <td>7848.933915</td>\n",
       "      <td>7047.102726</td>\n",
       "      <td>2220</td>\n",
       "      <td>559</td>\n",
       "      <td>1661</td>\n",
       "      <td>5803</td>\n",
       "      <td>1834</td>\n",
       "      <td>3969</td>\n",
       "      <td>0.052542</td>\n",
       "      <td>0.038401</td>\n",
       "      <td>0.059975</td>\n",
       "      <td>0.137343</td>\n",
       "      <td>0.125987</td>\n",
       "      <td>0.143311</td>\n",
       "    </tr>\n",
       "    <tr>\n",
       "      <th>8</th>\n",
       "      <td>2018</td>\n",
       "      <td>20.0</td>\n",
       "      <td>39911</td>\n",
       "      <td>13775</td>\n",
       "      <td>26136</td>\n",
       "      <td>7519.654431</td>\n",
       "      <td>8079.968494</td>\n",
       "      <td>7224.340450</td>\n",
       "      <td>3614</td>\n",
       "      <td>814</td>\n",
       "      <td>2800</td>\n",
       "      <td>3133</td>\n",
       "      <td>1035</td>\n",
       "      <td>2098</td>\n",
       "      <td>0.090551</td>\n",
       "      <td>0.059093</td>\n",
       "      <td>0.107132</td>\n",
       "      <td>0.078500</td>\n",
       "      <td>0.075136</td>\n",
       "      <td>0.080272</td>\n",
       "    </tr>\n",
       "    <tr>\n",
       "      <th>9</th>\n",
       "      <td>2019</td>\n",
       "      <td>19.4</td>\n",
       "      <td>33134</td>\n",
       "      <td>11267</td>\n",
       "      <td>21867</td>\n",
       "      <td>7492.973200</td>\n",
       "      <td>8066.226502</td>\n",
       "      <td>7197.603695</td>\n",
       "      <td>3183</td>\n",
       "      <td>757</td>\n",
       "      <td>2426</td>\n",
       "      <td>2399</td>\n",
       "      <td>611</td>\n",
       "      <td>1788</td>\n",
       "      <td>0.096064</td>\n",
       "      <td>0.067187</td>\n",
       "      <td>0.110943</td>\n",
       "      <td>0.072403</td>\n",
       "      <td>0.054229</td>\n",
       "      <td>0.081767</td>\n",
       "    </tr>\n",
       "  </tbody>\n",
       "</table>\n",
       "</div>"
      ],
      "text/plain": [
       "   Year  Temp  Runners  Female   Male     Avg Time   Avg Time F   Avg Time M  \\\n",
       "0  2010  21.7    37982   10996  26986  7643.674056  8145.278192  7439.285148   \n",
       "1  2011  16.6    42838   13179  29659  7263.707736  7798.754989  7025.959068   \n",
       "2  2012  13.6    44094   13750  30344  7208.821881  7749.826618  6963.672423   \n",
       "3  2013  25.0    44919   14814  30105  7747.183441  8205.571756  7521.620761   \n",
       "4  2014  18.9    47187   16323  30864  7458.688389  7989.805060  7177.797466   \n",
       "5  2015  14.7    46207   16086  30121  7335.203281  7845.001865  7062.947379   \n",
       "6  2016  15.1    44972   15662  29310  7343.250111  7876.157323  7058.487479   \n",
       "7  2017  13.9    42252   14557  27695  7323.356078  7848.933915  7047.102726   \n",
       "8  2018  20.0    39911   13775  26136  7519.654431  8079.968494  7224.340450   \n",
       "9  2019  19.4    33134   11267  21867  7492.973200  8066.226502  7197.603695   \n",
       "\n",
       "    HTW  HTW F  HTW M  Neg Split  Neg Split F  Neg Split M      HTW%  \\\n",
       "0  5141    622   4519       2171          740         1431  0.135354   \n",
       "1  2358    507   1851       5940         1597         4343  0.055045   \n",
       "2  2768    607   2161       6297         1725         4572  0.062775   \n",
       "3  6189   1123   5066       2997         1178         1819  0.137781   \n",
       "4  5007   1179   3828       3165         1058         2107  0.106110   \n",
       "5  3339    794   2545       5139         1592         3547  0.072262   \n",
       "6  2522    573   1949       4442         1601         2841  0.056079   \n",
       "7  2220    559   1661       5803         1834         3969  0.052542   \n",
       "8  3614    814   2800       3133         1035         2098  0.090551   \n",
       "9  3183    757   2426       2399          611         1788  0.096064   \n",
       "\n",
       "     F HTW%    M HTW%  Neg Split%  F Neg Split%  M Neg Split%  \n",
       "0  0.056566  0.167457    0.057159      0.067297      0.053027  \n",
       "1  0.038470  0.062409    0.138662      0.121178      0.146431  \n",
       "2  0.044145  0.071217    0.142809      0.125455      0.150672  \n",
       "3  0.075807  0.168278    0.066720      0.079519      0.060422  \n",
       "4  0.072229  0.124028    0.067074      0.064817      0.068267  \n",
       "5  0.049360  0.084493    0.111217      0.098968      0.117758  \n",
       "6  0.036585  0.066496    0.098773      0.102222      0.096929  \n",
       "7  0.038401  0.059975    0.137343      0.125987      0.143311  \n",
       "8  0.059093  0.107132    0.078500      0.075136      0.080272  \n",
       "9  0.067187  0.110943    0.072403      0.054229      0.081767  "
      ]
     },
     "execution_count": 2,
     "metadata": {},
     "output_type": "execute_result"
    }
   ],
   "source": [
    "df"
   ]
  },
  {
   "cell_type": "markdown",
   "id": "a2d229a7",
   "metadata": {},
   "source": [
    "## Average times by temperature"
   ]
  },
  {
   "cell_type": "code",
   "execution_count": 3,
   "id": "4f353e79",
   "metadata": {},
   "outputs": [
    {
     "name": "stdout",
     "output_type": "stream",
     "text": [
      "Linear regression all runners finish time\n",
      "r-squared: 0.9111089869658573\n",
      "p:  1.7715249036464247e-05\n",
      "intercept:  6655.2428230633195\n",
      "slope:  43.510812593271396\n",
      "std err:  4.805028447513403\n"
     ]
    }
   ],
   "source": [
    "slope, intercept, r_value, p_value, std_err = stats.linregress(df['Temp'],df['Avg Time'])\n",
    "print (\"Linear regression all runners finish time\")\n",
    "print (\"r-squared:\", r_value**2)\n",
    "print (\"p: \", p_value)\n",
    "print (\"intercept: \", intercept)\n",
    "print (\"slope: \", slope)\n",
    "print (\"std err: \", std_err)"
   ]
  },
  {
   "cell_type": "code",
   "execution_count": 4,
   "id": "a41035e8",
   "metadata": {},
   "outputs": [
    {
     "name": "stdout",
     "output_type": "stream",
     "text": [
      "Linear regression female finish time\n",
      "r-squared: 0.8979538035167087\n",
      "p:  3.094503499458341e-05\n",
      "intercept:  7248.00461670852\n",
      "slope:  39.82939378516619\n",
      "std err:  4.74711897897793\n"
     ]
    }
   ],
   "source": [
    "slope, intercept, r_value, p_value, std_err = stats.linregress(df['Temp'],df['Avg Time F'])\n",
    "print (\"Linear regression female finish time\")\n",
    "print (\"r-squared:\", r_value**2)\n",
    "print (\"p: \", p_value)\n",
    "print (\"intercept: \", intercept)\n",
    "print (\"slope: \", slope)\n",
    "print (\"std err: \", std_err)"
   ]
  },
  {
   "cell_type": "code",
   "execution_count": 5,
   "id": "badba7f7",
   "metadata": {},
   "outputs": [
    {
     "name": "stdout",
     "output_type": "stream",
     "text": [
      "Linear regression male finish time\n",
      "r-squared: 0.9098993795605811\n",
      "p:  1.8709167068037667e-05\n",
      "intercept:  6338.6711042585885\n",
      "slope:  46.57409475643498\n",
      "std err:  5.181632825176719\n"
     ]
    }
   ],
   "source": [
    "slope, intercept, r_value, p_value, std_err = stats.linregress(df['Temp'],df['Avg Time M'])\n",
    "print (\"Linear regression male finish time\")\n",
    "print (\"r-squared:\", r_value**2)\n",
    "print (\"p: \", p_value)\n",
    "print (\"intercept: \", intercept)\n",
    "print (\"slope: \", slope)\n",
    "print (\"std err: \", std_err)"
   ]
  },
  {
   "cell_type": "markdown",
   "id": "4af09148",
   "metadata": {},
   "source": [
    "## HTW rates by temperature"
   ]
  },
  {
   "cell_type": "code",
   "execution_count": 6,
   "id": "624c5c27",
   "metadata": {},
   "outputs": [
    {
     "name": "stdout",
     "output_type": "stream",
     "text": [
      "Number of runners HTW by temperature\n",
      "r-squared: 0.7463542610048088\n",
      "p:  0.0012689337299441673\n",
      "slope:  312.5197011887763\n",
      "std err:  64.4130233512836\n"
     ]
    }
   ],
   "source": [
    "slope, intercept, r_value, p_value, std_err = stats.linregress(df['Temp'],df['HTW'])\n",
    "print(\"Number of runners HTW by temperature\")\n",
    "print (\"r-squared:\", r_value**2)\n",
    "print (\"p: \", p_value)\n",
    "print (\"slope: \", slope)\n",
    "print (\"std err: \", std_err)"
   ]
  },
  {
   "cell_type": "code",
   "execution_count": 7,
   "id": "e9a04235",
   "metadata": {},
   "outputs": [
    {
     "name": "stdout",
     "output_type": "stream",
     "text": [
      "Male runners HTW by temperature\n",
      "r-squared: 0.7585656976834076\n",
      "p:  0.0010352165980106564\n",
      "slope:  274.76796377663305\n",
      "std err:  54.80548035366965\n"
     ]
    }
   ],
   "source": [
    "#linear regression for men HTW by temperature.\n",
    "slope, intercept, r_value, p_value, std_err = stats.linregress(df['Temp'],df['HTW M'])\n",
    "print(\"Male runners HTW by temperature\")\n",
    "print (\"r-squared:\", r_value**2)\n",
    "print (\"p: \", p_value)\n",
    "print (\"slope: \", slope)\n",
    "print (\"std err: \", std_err)"
   ]
  },
  {
   "cell_type": "code",
   "execution_count": 8,
   "id": "431485fe",
   "metadata": {},
   "outputs": [
    {
     "name": "stdout",
     "output_type": "stream",
     "text": [
      "Female runners HTW by temperature\n",
      "r-squared: 0.3666048334437487\n",
      "p:  0.06359434553891391\n",
      "slope:  37.751737412143335\n",
      "std err:  17.544065061839188\n"
     ]
    }
   ],
   "source": [
    "#linear regression for women HTW by temperature. \n",
    "#It's not a good fit and women seem to not increase their risk of HTW as much as men.\n",
    "slope, intercept, r_value, p_value, std_err = stats.linregress(df['Temp'],df['HTW F'])\n",
    "print(\"Female runners HTW by temperature\")\n",
    "print (\"r-squared:\", r_value**2)\n",
    "print (\"p: \", p_value)\n",
    "print (\"slope: \", slope)\n",
    "print (\"std err: \", std_err)"
   ]
  },
  {
   "cell_type": "code",
   "execution_count": 9,
   "id": "31942fe6",
   "metadata": {},
   "outputs": [
    {
     "name": "stdout",
     "output_type": "stream",
     "text": [
      "% Male runners HTW by temperature\n",
      "r-squared: 0.8455525035440344\n",
      "p:  0.0001662461930069671\n",
      "slope:  0.010041298056111033\n",
      "std err:  0.0015172774786787909\n"
     ]
    }
   ],
   "source": [
    "#linear regression for % of men HTW by temperature.\n",
    "slope, intercept, r_value, p_value, std_err = stats.linregress(df['Temp'],df['M HTW%'])\n",
    "print(\"% Male runners HTW by temperature\")\n",
    "print (\"r-squared:\", r_value**2)\n",
    "print (\"p: \", p_value)\n",
    "print (\"slope: \", slope)\n",
    "print (\"std err: \", std_err)"
   ]
  },
  {
   "cell_type": "code",
   "execution_count": 10,
   "id": "471cc8ad",
   "metadata": {},
   "outputs": [
    {
     "name": "stdout",
     "output_type": "stream",
     "text": [
      "% Female runners HTW by temperature\n",
      "r-squared: 0.66332037137115\n",
      "p:  0.0041185241140052785\n",
      "slope:  0.003169793192571831\n",
      "std err:  0.000798422352730542\n"
     ]
    }
   ],
   "source": [
    "#linear regression for % of women HTW by temperature.\n",
    "slope, intercept, r_value, p_value, std_err = stats.linregress(df['Temp'],df['F HTW%'])\n",
    "print(\"% Female runners HTW by temperature\")\n",
    "print (\"r-squared:\", r_value**2)\n",
    "print (\"p: \", p_value)\n",
    "print (\"slope: \", slope)\n",
    "print (\"std err: \", std_err)"
   ]
  },
  {
   "cell_type": "markdown",
   "id": "13e9480f",
   "metadata": {},
   "source": [
    "# Negative Split Rates by Temperature"
   ]
  },
  {
   "cell_type": "markdown",
   "id": "5757ef21",
   "metadata": {},
   "source": [
    "For the negative splits, the relationship isn't really linear (see plots), which will be shown below, but rather there are two clusters, below and above 18 degrees, when more runners manage a negative split in the five cooler years. "
   ]
  },
  {
   "cell_type": "code",
   "execution_count": 11,
   "id": "1da9c07d",
   "metadata": {},
   "outputs": [
    {
     "name": "stdout",
     "output_type": "stream",
     "text": [
      "r-squared: 0.6841474625576467\n",
      "p:  0.003153405979409332\n",
      "slope:  -343.9905655168061\n",
      "std err:  82.63591930164884\n"
     ]
    }
   ],
   "source": [
    "slope, intercept, r_value, p_value, std_err = stats.linregress(df['Temp'],df['Neg Split'])\n",
    "\n",
    "print (\"r-squared:\", r_value**2)\n",
    "print (\"p: \", p_value)\n",
    "print (\"slope: \", slope)\n",
    "print (\"std err: \", std_err)"
   ]
  },
  {
   "cell_type": "code",
   "execution_count": 12,
   "id": "af412815",
   "metadata": {},
   "outputs": [
    {
     "name": "stdout",
     "output_type": "stream",
     "text": [
      "r-squared: 0.6863935996805802\n",
      "p:  0.0030608845197343205\n",
      "slope:  -257.58702837444486\n",
      "std err:  61.55804823171513\n"
     ]
    }
   ],
   "source": [
    "slope, intercept, r_value, p_value, std_err = stats.linregress(df['Temp'],df['Neg Split M'])\n",
    "\n",
    "print (\"r-squared:\", r_value**2)\n",
    "print (\"p: \", p_value)\n",
    "print (\"slope: \", slope)\n",
    "print (\"std err: \", std_err)"
   ]
  },
  {
   "cell_type": "code",
   "execution_count": 13,
   "id": "3a8506e6",
   "metadata": {},
   "outputs": [
    {
     "name": "stdout",
     "output_type": "stream",
     "text": [
      "r-squared: 0.569516782636373\n",
      "p:  0.011643943985669154\n",
      "slope:  -86.40353714236127\n",
      "std err:  26.55897911788878\n"
     ]
    }
   ],
   "source": [
    "slope, intercept, r_value, p_value, std_err = stats.linregress(df['Temp'],df['Neg Split F'])\n",
    "\n",
    "print (\"r-squared:\", r_value**2)\n",
    "print (\"p: \", p_value)\n",
    "print (\"slope: \", slope)\n",
    "print (\"std err: \", std_err)"
   ]
  },
  {
   "cell_type": "markdown",
   "id": "54c59213",
   "metadata": {},
   "source": [
    "As the number of negative splits isn't linear, it appear to form two clusers, one for the cold years < 18 degrees, and one for the warm years > 18 degrees. Let's compute the differences between these conditions."
   ]
  },
  {
   "cell_type": "code",
   "execution_count": 14,
   "id": "ed2bc52f",
   "metadata": {},
   "outputs": [
    {
     "data": {
      "text/html": [
       "<div>\n",
       "<style scoped>\n",
       "    .dataframe tbody tr th:only-of-type {\n",
       "        vertical-align: middle;\n",
       "    }\n",
       "\n",
       "    .dataframe tbody tr th {\n",
       "        vertical-align: top;\n",
       "    }\n",
       "\n",
       "    .dataframe thead th {\n",
       "        text-align: right;\n",
       "    }\n",
       "</style>\n",
       "<table border=\"1\" class=\"dataframe\">\n",
       "  <thead>\n",
       "    <tr style=\"text-align: right;\">\n",
       "      <th>SplitRatio</th>\n",
       "      <th>False</th>\n",
       "      <th>True</th>\n",
       "    </tr>\n",
       "    <tr>\n",
       "      <th>temperature</th>\n",
       "      <th></th>\n",
       "      <th></th>\n",
       "    </tr>\n",
       "  </thead>\n",
       "  <tbody>\n",
       "    <tr>\n",
       "      <th>False</th>\n",
       "      <td>189268</td>\n",
       "      <td>13865</td>\n",
       "    </tr>\n",
       "    <tr>\n",
       "      <th>True</th>\n",
       "      <td>192742</td>\n",
       "      <td>27621</td>\n",
       "    </tr>\n",
       "  </tbody>\n",
       "</table>\n",
       "</div>"
      ],
      "text/plain": [
       "SplitRatio    False   True\n",
       "temperature               \n",
       "False        189268  13865\n",
       "True         192742  27621"
      ]
     },
     "execution_count": 14,
     "metadata": {},
     "output_type": "execute_result"
    }
   ],
   "source": [
    "ct = pd.crosstab(data['temperature'] < 18, data['SplitRatio'] <= 1)\n",
    "#temperature = False means the temperature is above 18 degrees C, temperatur = True that it is below\n",
    "f_ct = pd.crosstab((data.loc[data[\"Gender\"] == \"F\"])['temperature'] < 18, data['SplitRatio'] <= 1)\n",
    "m_ct = pd.crosstab((data.loc[data[\"Gender\"] == \"M\"])['temperature'] < 18, data['SplitRatio'] <= 1)\n",
    "ct"
   ]
  },
  {
   "cell_type": "code",
   "execution_count": 15,
   "id": "8ad0da49",
   "metadata": {},
   "outputs": [
    {
     "data": {
      "text/html": [
       "<div>\n",
       "<style scoped>\n",
       "    .dataframe tbody tr th:only-of-type {\n",
       "        vertical-align: middle;\n",
       "    }\n",
       "\n",
       "    .dataframe tbody tr th {\n",
       "        vertical-align: top;\n",
       "    }\n",
       "\n",
       "    .dataframe thead th {\n",
       "        text-align: right;\n",
       "    }\n",
       "</style>\n",
       "<table border=\"1\" class=\"dataframe\">\n",
       "  <thead>\n",
       "    <tr style=\"text-align: right;\">\n",
       "      <th>SplitRatio</th>\n",
       "      <th>False</th>\n",
       "      <th>True</th>\n",
       "    </tr>\n",
       "    <tr>\n",
       "      <th>temperature</th>\n",
       "      <th></th>\n",
       "      <th></th>\n",
       "    </tr>\n",
       "  </thead>\n",
       "  <tbody>\n",
       "    <tr>\n",
       "      <th>False</th>\n",
       "      <td>62553</td>\n",
       "      <td>4622</td>\n",
       "    </tr>\n",
       "    <tr>\n",
       "      <th>True</th>\n",
       "      <td>64885</td>\n",
       "      <td>8349</td>\n",
       "    </tr>\n",
       "  </tbody>\n",
       "</table>\n",
       "</div>"
      ],
      "text/plain": [
       "SplitRatio   False  True\n",
       "temperature             \n",
       "False        62553  4622\n",
       "True         64885  8349"
      ]
     },
     "execution_count": 15,
     "metadata": {},
     "output_type": "execute_result"
    }
   ],
   "source": [
    "f_ct"
   ]
  },
  {
   "cell_type": "code",
   "execution_count": 16,
   "id": "18eb8346",
   "metadata": {},
   "outputs": [
    {
     "data": {
      "text/html": [
       "<div>\n",
       "<style scoped>\n",
       "    .dataframe tbody tr th:only-of-type {\n",
       "        vertical-align: middle;\n",
       "    }\n",
       "\n",
       "    .dataframe tbody tr th {\n",
       "        vertical-align: top;\n",
       "    }\n",
       "\n",
       "    .dataframe thead th {\n",
       "        text-align: right;\n",
       "    }\n",
       "</style>\n",
       "<table border=\"1\" class=\"dataframe\">\n",
       "  <thead>\n",
       "    <tr style=\"text-align: right;\">\n",
       "      <th>SplitRatio</th>\n",
       "      <th>False</th>\n",
       "      <th>True</th>\n",
       "    </tr>\n",
       "    <tr>\n",
       "      <th>temperature</th>\n",
       "      <th></th>\n",
       "      <th></th>\n",
       "    </tr>\n",
       "  </thead>\n",
       "  <tbody>\n",
       "    <tr>\n",
       "      <th>False</th>\n",
       "      <td>126715</td>\n",
       "      <td>9243</td>\n",
       "    </tr>\n",
       "    <tr>\n",
       "      <th>True</th>\n",
       "      <td>127857</td>\n",
       "      <td>19272</td>\n",
       "    </tr>\n",
       "  </tbody>\n",
       "</table>\n",
       "</div>"
      ],
      "text/plain": [
       "SplitRatio    False   True\n",
       "temperature               \n",
       "False        126715   9243\n",
       "True         127857  19272"
      ]
     },
     "execution_count": 16,
     "metadata": {},
     "output_type": "execute_result"
    }
   ],
   "source": [
    "m_ct"
   ]
  },
  {
   "cell_type": "code",
   "execution_count": 17,
   "id": "2fc0b8f3",
   "metadata": {},
   "outputs": [
    {
     "name": "stdout",
     "output_type": "stream",
     "text": [
      "Neagtive Splits warm vs cold years: \n",
      " p:  0.0 OR:  1.9562319862232438\n",
      "Neagtive Splits warm vs cold years (Female): \n",
      " p:  1.50459121297107e-190 OR:  1.7414393511243988\n",
      "Neagtive Splits warm vs cold years (Men): \n",
      " p:  0.0 OR:  2.0664140774948905\n"
     ]
    }
   ],
   "source": [
    "oddsr, p = fisher_exact(ct)\n",
    "oddsrF, pF = fisher_exact(f_ct)\n",
    "oddsrM, pM = fisher_exact(m_ct)\n",
    "print(\"Neagtive Splits warm vs cold years: \\n p: \", p, \"OR: \", oddsr)\n",
    "print(\"Neagtive Splits warm vs cold years (Female): \\n p: \", pF, \"OR: \", oddsrF)\n",
    "print(\"Neagtive Splits warm vs cold years (Men): \\n p: \", pM, \"OR: \", oddsrM)"
   ]
  },
  {
   "cell_type": "code",
   "execution_count": null,
   "id": "185fab1c",
   "metadata": {},
   "outputs": [],
   "source": []
  }
 ],
 "metadata": {
  "kernelspec": {
   "display_name": "Python 3 (ipykernel)",
   "language": "python",
   "name": "python3"
  },
  "language_info": {
   "codemirror_mode": {
    "name": "ipython",
    "version": 3
   },
   "file_extension": ".py",
   "mimetype": "text/x-python",
   "name": "python",
   "nbconvert_exporter": "python",
   "pygments_lexer": "ipython3",
   "version": "3.9.7"
  }
 },
 "nbformat": 4,
 "nbformat_minor": 5
}
