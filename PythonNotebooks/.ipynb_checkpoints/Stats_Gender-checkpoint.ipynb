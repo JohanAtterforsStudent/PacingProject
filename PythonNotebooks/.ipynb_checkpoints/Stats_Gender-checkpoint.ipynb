{
 "cells": [
  {
   "cell_type": "markdown",
   "id": "e1ab9faa",
   "metadata": {},
   "source": [
    "# Sex"
   ]
  },
  {
   "cell_type": "code",
   "execution_count": 1,
   "id": "943dbff2",
   "metadata": {},
   "outputs": [],
   "source": [
    "import pandas as pd\n",
    "import numpy as np\n",
    "from scipy.stats import chi2_contingency\n",
    "from scipy.stats import fisher_exact\n",
    "\n",
    "data = pd.read_csv(filepath_or_buffer='../../../Archive/HTWTempRatios.csv')"
   ]
  },
  {
   "cell_type": "code",
   "execution_count": 2,
   "id": "0e89795d",
   "metadata": {},
   "outputs": [],
   "source": [
    "#Compute a contingency table for men/women hitting the wall.\n",
    "data[\"HTW\"] = (data['DoS15km'] >= 0.25) | (data['DoS20km'] >= 0.25)\n",
    "htw_tab = pd.crosstab(data['Gender'], data['HTW'])"
   ]
  },
  {
   "cell_type": "code",
   "execution_count": 3,
   "id": "2bb47a29",
   "metadata": {},
   "outputs": [
    {
     "data": {
      "text/html": [
       "<div>\n",
       "<style scoped>\n",
       "    .dataframe tbody tr th:only-of-type {\n",
       "        vertical-align: middle;\n",
       "    }\n",
       "\n",
       "    .dataframe tbody tr th {\n",
       "        vertical-align: top;\n",
       "    }\n",
       "\n",
       "    .dataframe thead th {\n",
       "        text-align: right;\n",
       "    }\n",
       "</style>\n",
       "<table border=\"1\" class=\"dataframe\">\n",
       "  <thead>\n",
       "    <tr style=\"text-align: right;\">\n",
       "      <th>HTW</th>\n",
       "      <th>False</th>\n",
       "      <th>True</th>\n",
       "    </tr>\n",
       "    <tr>\n",
       "      <th>Gender</th>\n",
       "      <th></th>\n",
       "      <th></th>\n",
       "    </tr>\n",
       "  </thead>\n",
       "  <tbody>\n",
       "    <tr>\n",
       "      <th>F</th>\n",
       "      <td>132874</td>\n",
       "      <td>7535</td>\n",
       "    </tr>\n",
       "    <tr>\n",
       "      <th>M</th>\n",
       "      <td>254281</td>\n",
       "      <td>28806</td>\n",
       "    </tr>\n",
       "  </tbody>\n",
       "</table>\n",
       "</div>"
      ],
      "text/plain": [
       "HTW      False   True\n",
       "Gender               \n",
       "F       132874   7535\n",
       "M       254281  28806"
      ]
     },
     "execution_count": 3,
     "metadata": {},
     "output_type": "execute_result"
    }
   ],
   "source": [
    "htw_tab"
   ]
  },
  {
   "cell_type": "code",
   "execution_count": 4,
   "id": "96fd00ae",
   "metadata": {},
   "outputs": [
    {
     "name": "stdout",
     "output_type": "stream",
     "text": [
      "Male / Female OR for HTW:  1.9976794316395454\n",
      "p:  0.0\n"
     ]
    }
   ],
   "source": [
    "oddsr_htw, p_htw = fisher_exact(htw_tab)\n",
    "print(\"Male / Female OR for HTW: \", oddsr_htw)\n",
    "print(\"p: \", p_htw)"
   ]
  },
  {
   "cell_type": "code",
   "execution_count": 5,
   "id": "76b5588c",
   "metadata": {},
   "outputs": [
    {
     "data": {
      "text/html": [
       "<div>\n",
       "<style scoped>\n",
       "    .dataframe tbody tr th:only-of-type {\n",
       "        vertical-align: middle;\n",
       "    }\n",
       "\n",
       "    .dataframe tbody tr th {\n",
       "        vertical-align: top;\n",
       "    }\n",
       "\n",
       "    .dataframe thead th {\n",
       "        text-align: right;\n",
       "    }\n",
       "</style>\n",
       "<table border=\"1\" class=\"dataframe\">\n",
       "  <thead>\n",
       "    <tr style=\"text-align: right;\">\n",
       "      <th>SplitRatio</th>\n",
       "      <th>False</th>\n",
       "      <th>True</th>\n",
       "    </tr>\n",
       "    <tr>\n",
       "      <th>Gender</th>\n",
       "      <th></th>\n",
       "      <th></th>\n",
       "    </tr>\n",
       "  </thead>\n",
       "  <tbody>\n",
       "    <tr>\n",
       "      <th>F</th>\n",
       "      <td>127438</td>\n",
       "      <td>12971</td>\n",
       "    </tr>\n",
       "    <tr>\n",
       "      <th>M</th>\n",
       "      <td>254572</td>\n",
       "      <td>28515</td>\n",
       "    </tr>\n",
       "  </tbody>\n",
       "</table>\n",
       "</div>"
      ],
      "text/plain": [
       "SplitRatio   False   True\n",
       "Gender                   \n",
       "F           127438  12971\n",
       "M           254572  28515"
      ]
     },
     "execution_count": 5,
     "metadata": {},
     "output_type": "execute_result"
    }
   ],
   "source": [
    "#Compute a contingecy table for negative (or equal) splits\n",
    "#data[\"NegSplit\"] = \n",
    "splits_tab = pd.crosstab(data['Gender'], data['SplitRatio'] <= 1)\n",
    "splits_tab"
   ]
  },
  {
   "cell_type": "code",
   "execution_count": 6,
   "id": "3020fae4",
   "metadata": {},
   "outputs": [],
   "source": [
    "oddsr, p = fisher_exact(splits_tab)"
   ]
  },
  {
   "cell_type": "code",
   "execution_count": 7,
   "id": "0a8f87b0",
   "metadata": {},
   "outputs": [
    {
     "name": "stdout",
     "output_type": "stream",
     "text": [
      "Male / Female OR for Negativ Split:  1.1004953938037632\n",
      "p:  5.747684234938161e-18\n"
     ]
    }
   ],
   "source": [
    "print(\"Male / Female OR for Negativ Split: \",oddsr)\n",
    "print(\"p: \", p)"
   ]
  },
  {
   "cell_type": "code",
   "execution_count": null,
   "id": "edd5eea7",
   "metadata": {},
   "outputs": [],
   "source": []
  }
 ],
 "metadata": {
  "kernelspec": {
   "display_name": "Python [conda env:root] *",
   "language": "python",
   "name": "conda-root-py"
  },
  "language_info": {
   "codemirror_mode": {
    "name": "ipython",
    "version": 3
   },
   "file_extension": ".py",
   "mimetype": "text/x-python",
   "name": "python",
   "nbconvert_exporter": "python",
   "pygments_lexer": "ipython3",
   "version": "3.9.7"
  }
 },
 "nbformat": 4,
 "nbformat_minor": 5
}
