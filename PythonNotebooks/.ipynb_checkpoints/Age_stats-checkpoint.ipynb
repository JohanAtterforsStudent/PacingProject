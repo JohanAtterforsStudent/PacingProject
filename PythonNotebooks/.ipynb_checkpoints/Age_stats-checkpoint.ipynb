{
 "cells": [
  {
   "cell_type": "markdown",
   "id": "98f95c4a",
   "metadata": {},
   "source": [
    "# Age groups"
   ]
  },
  {
   "cell_type": "code",
   "execution_count": 2,
   "id": "e3aaed2d",
   "metadata": {},
   "outputs": [],
   "source": [
    "import pandas as pd\n",
    "import numpy as np\n",
    "from scipy.stats import chi2_contingency\n",
    "from scipy.stats import fisher_exact\n",
    "\n",
    "data = pd.read_csv(filepath_or_buffer='../../../Archive/HTWTempRatios.csv')"
   ]
  },
  {
   "cell_type": "code",
   "execution_count": 3,
   "id": "c80ee9c8",
   "metadata": {},
   "outputs": [
    {
     "data": {
      "text/html": [
       "<div>\n",
       "<style scoped>\n",
       "    .dataframe tbody tr th:only-of-type {\n",
       "        vertical-align: middle;\n",
       "    }\n",
       "\n",
       "    .dataframe tbody tr th {\n",
       "        vertical-align: top;\n",
       "    }\n",
       "\n",
       "    .dataframe thead th {\n",
       "        text-align: right;\n",
       "    }\n",
       "</style>\n",
       "<table border=\"1\" class=\"dataframe\">\n",
       "  <thead>\n",
       "    <tr style=\"text-align: right;\">\n",
       "      <th>Gender</th>\n",
       "      <th>F</th>\n",
       "      <th>M</th>\n",
       "    </tr>\n",
       "    <tr>\n",
       "      <th>AgeGroup</th>\n",
       "      <th></th>\n",
       "      <th></th>\n",
       "    </tr>\n",
       "  </thead>\n",
       "  <tbody>\n",
       "    <tr>\n",
       "      <th>17-29</th>\n",
       "      <td>39300</td>\n",
       "      <td>49731</td>\n",
       "    </tr>\n",
       "    <tr>\n",
       "      <th>30-39</th>\n",
       "      <td>41320</td>\n",
       "      <td>84164</td>\n",
       "    </tr>\n",
       "    <tr>\n",
       "      <th>40-49</th>\n",
       "      <td>38938</td>\n",
       "      <td>85337</td>\n",
       "    </tr>\n",
       "    <tr>\n",
       "      <th>50-59</th>\n",
       "      <td>16488</td>\n",
       "      <td>45773</td>\n",
       "    </tr>\n",
       "    <tr>\n",
       "      <th>60+</th>\n",
       "      <td>3331</td>\n",
       "      <td>15941</td>\n",
       "    </tr>\n",
       "    <tr>\n",
       "      <th>None</th>\n",
       "      <td>1032</td>\n",
       "      <td>2141</td>\n",
       "    </tr>\n",
       "  </tbody>\n",
       "</table>\n",
       "</div>"
      ],
      "text/plain": [
       "Gender        F      M\n",
       "AgeGroup              \n",
       "17-29     39300  49731\n",
       "30-39     41320  84164\n",
       "40-49     38938  85337\n",
       "50-59     16488  45773\n",
       "60+        3331  15941\n",
       "None       1032   2141"
      ]
     },
     "execution_count": 3,
     "metadata": {},
     "output_type": "execute_result"
    }
   ],
   "source": [
    "#Compute a contingency table for age groups hitting the wall.\n",
    "data[\"HTW\"] = (data['DoS15km'] >= 0.25) | (data['DoS20km'] >= 0.25)\n",
    "data[\"AgeGroup\"] = \"None\"\n",
    "\n",
    "data.loc[data[\"Age\"].between(17,29, inclusive='both'), 'AgeGroup'] = \"17-29\" #remove any with missing age\n",
    "data.loc[data[\"Age\"].between(30,39, inclusive='both'), 'AgeGroup'] = \"30-39\"\n",
    "data.loc[data[\"Age\"].between(40,49, inclusive='both'), 'AgeGroup'] = \"40-49\"\n",
    "data.loc[data[\"Age\"].between(50,59, inclusive='both'), 'AgeGroup'] = \"50-59\"\n",
    "data.loc[data[\"Age\"].between(60,99, inclusive='both'), 'AgeGroup'] = \"60+\" #remove any unrealisic outlier\n",
    "\n",
    "# Show number of male/female runner per age group\n",
    "mf_tab = pd.crosstab(data[\"AgeGroup\"], data['Gender'])\n",
    "mf_tab"
   ]
  },
  {
   "cell_type": "markdown",
   "id": "3678372c",
   "metadata": {},
   "source": [
    "## Runners Hitting the Wall per age group"
   ]
  },
  {
   "cell_type": "code",
   "execution_count": 4,
   "id": "86b9ca74",
   "metadata": {},
   "outputs": [],
   "source": [
    "df = data.loc[data[\"AgeGroup\"] != \"None\"] # drop datapoints with missing or wrong age.\n",
    "htw_tab = pd.crosstab(df[\"AgeGroup\"], df['HTW'])\n",
    "f_htw_tab = pd.crosstab((df.loc[df[\"Gender\"] == \"F\"])[\"AgeGroup\"], df['HTW'])\n",
    "m_htw_tab = pd.crosstab((df.loc[df[\"Gender\"] == \"M\"])[\"AgeGroup\"], df['HTW'])"
   ]
  },
  {
   "cell_type": "code",
   "execution_count": 5,
   "id": "e80ed27d",
   "metadata": {},
   "outputs": [
    {
     "data": {
      "text/html": [
       "<div>\n",
       "<style scoped>\n",
       "    .dataframe tbody tr th:only-of-type {\n",
       "        vertical-align: middle;\n",
       "    }\n",
       "\n",
       "    .dataframe tbody tr th {\n",
       "        vertical-align: top;\n",
       "    }\n",
       "\n",
       "    .dataframe thead th {\n",
       "        text-align: right;\n",
       "    }\n",
       "</style>\n",
       "<table border=\"1\" class=\"dataframe\">\n",
       "  <thead>\n",
       "    <tr style=\"text-align: right;\">\n",
       "      <th>HTW</th>\n",
       "      <th>False</th>\n",
       "      <th>True</th>\n",
       "    </tr>\n",
       "    <tr>\n",
       "      <th>AgeGroup</th>\n",
       "      <th></th>\n",
       "      <th></th>\n",
       "    </tr>\n",
       "  </thead>\n",
       "  <tbody>\n",
       "    <tr>\n",
       "      <th>17-29</th>\n",
       "      <td>36549</td>\n",
       "      <td>2751</td>\n",
       "    </tr>\n",
       "    <tr>\n",
       "      <th>30-39</th>\n",
       "      <td>39363</td>\n",
       "      <td>1957</td>\n",
       "    </tr>\n",
       "    <tr>\n",
       "      <th>40-49</th>\n",
       "      <td>37290</td>\n",
       "      <td>1648</td>\n",
       "    </tr>\n",
       "    <tr>\n",
       "      <th>50-59</th>\n",
       "      <td>15576</td>\n",
       "      <td>912</td>\n",
       "    </tr>\n",
       "    <tr>\n",
       "      <th>60+</th>\n",
       "      <td>3152</td>\n",
       "      <td>179</td>\n",
       "    </tr>\n",
       "  </tbody>\n",
       "</table>\n",
       "</div>"
      ],
      "text/plain": [
       "HTW       False  True\n",
       "AgeGroup             \n",
       "17-29     36549  2751\n",
       "30-39     39363  1957\n",
       "40-49     37290  1648\n",
       "50-59     15576   912\n",
       "60+        3152   179"
      ]
     },
     "execution_count": 5,
     "metadata": {},
     "output_type": "execute_result"
    }
   ],
   "source": [
    "# Number of females hitting the wall per age group\n",
    "f_htw_tab"
   ]
  },
  {
   "cell_type": "code",
   "execution_count": 6,
   "id": "61b705b4",
   "metadata": {},
   "outputs": [
    {
     "name": "stdout",
     "output_type": "stream",
     "text": [
      "Chi-squared females HTW by age groups, p:  3.145193918645074e-72\n"
     ]
    }
   ],
   "source": [
    "c, p, dof, expected = chi2_contingency(f_htw_tab) \n",
    "print(\"Chi-squared females HTW by age groups, p: \", p)"
   ]
  },
  {
   "cell_type": "code",
   "execution_count": 7,
   "id": "a3c5b940",
   "metadata": {},
   "outputs": [
    {
     "data": {
      "text/html": [
       "<div>\n",
       "<style scoped>\n",
       "    .dataframe tbody tr th:only-of-type {\n",
       "        vertical-align: middle;\n",
       "    }\n",
       "\n",
       "    .dataframe tbody tr th {\n",
       "        vertical-align: top;\n",
       "    }\n",
       "\n",
       "    .dataframe thead th {\n",
       "        text-align: right;\n",
       "    }\n",
       "</style>\n",
       "<table border=\"1\" class=\"dataframe\">\n",
       "  <thead>\n",
       "    <tr style=\"text-align: right;\">\n",
       "      <th>HTW</th>\n",
       "      <th>False</th>\n",
       "      <th>True</th>\n",
       "    </tr>\n",
       "    <tr>\n",
       "      <th>AgeGroup</th>\n",
       "      <th></th>\n",
       "      <th></th>\n",
       "    </tr>\n",
       "  </thead>\n",
       "  <tbody>\n",
       "    <tr>\n",
       "      <th>17-29</th>\n",
       "      <td>43284</td>\n",
       "      <td>6447</td>\n",
       "    </tr>\n",
       "    <tr>\n",
       "      <th>30-39</th>\n",
       "      <td>75567</td>\n",
       "      <td>8597</td>\n",
       "    </tr>\n",
       "    <tr>\n",
       "      <th>40-49</th>\n",
       "      <td>77699</td>\n",
       "      <td>7638</td>\n",
       "    </tr>\n",
       "    <tr>\n",
       "      <th>50-59</th>\n",
       "      <td>41528</td>\n",
       "      <td>4245</td>\n",
       "    </tr>\n",
       "    <tr>\n",
       "      <th>60+</th>\n",
       "      <td>14362</td>\n",
       "      <td>1579</td>\n",
       "    </tr>\n",
       "  </tbody>\n",
       "</table>\n",
       "</div>"
      ],
      "text/plain": [
       "HTW       False  True\n",
       "AgeGroup             \n",
       "17-29     43284  6447\n",
       "30-39     75567  8597\n",
       "40-49     77699  7638\n",
       "50-59     41528  4245\n",
       "60+       14362  1579"
      ]
     },
     "execution_count": 7,
     "metadata": {},
     "output_type": "execute_result"
    }
   ],
   "source": [
    "# Number of males hitting the wall per age group\n",
    "m_htw_tab"
   ]
  },
  {
   "cell_type": "code",
   "execution_count": 8,
   "id": "5e0175f1",
   "metadata": {},
   "outputs": [
    {
     "name": "stdout",
     "output_type": "stream",
     "text": [
      "Chi-squared males HTW by age group, p:  6.021907258238046e-130\n"
     ]
    }
   ],
   "source": [
    "c, p, dof, expected = chi2_contingency(m_htw_tab) \n",
    "print(\"Chi-squared males HTW by age group, p: \", p)"
   ]
  },
  {
   "cell_type": "code",
   "execution_count": 9,
   "id": "c9736c95",
   "metadata": {},
   "outputs": [
    {
     "data": {
      "text/html": [
       "<div>\n",
       "<style scoped>\n",
       "    .dataframe tbody tr th:only-of-type {\n",
       "        vertical-align: middle;\n",
       "    }\n",
       "\n",
       "    .dataframe tbody tr th {\n",
       "        vertical-align: top;\n",
       "    }\n",
       "\n",
       "    .dataframe thead th {\n",
       "        text-align: right;\n",
       "    }\n",
       "</style>\n",
       "<table border=\"1\" class=\"dataframe\">\n",
       "  <thead>\n",
       "    <tr style=\"text-align: right;\">\n",
       "      <th>HTW</th>\n",
       "      <th>False</th>\n",
       "      <th>True</th>\n",
       "    </tr>\n",
       "    <tr>\n",
       "      <th>AgeGroup</th>\n",
       "      <th></th>\n",
       "      <th></th>\n",
       "    </tr>\n",
       "  </thead>\n",
       "  <tbody>\n",
       "    <tr>\n",
       "      <th>17-29</th>\n",
       "      <td>79833</td>\n",
       "      <td>9198</td>\n",
       "    </tr>\n",
       "    <tr>\n",
       "      <th>30-39</th>\n",
       "      <td>114930</td>\n",
       "      <td>10554</td>\n",
       "    </tr>\n",
       "    <tr>\n",
       "      <th>40-49</th>\n",
       "      <td>114989</td>\n",
       "      <td>9286</td>\n",
       "    </tr>\n",
       "    <tr>\n",
       "      <th>50-59</th>\n",
       "      <td>57104</td>\n",
       "      <td>5157</td>\n",
       "    </tr>\n",
       "    <tr>\n",
       "      <th>60+</th>\n",
       "      <td>17514</td>\n",
       "      <td>1758</td>\n",
       "    </tr>\n",
       "  </tbody>\n",
       "</table>\n",
       "</div>"
      ],
      "text/plain": [
       "HTW        False   True\n",
       "AgeGroup               \n",
       "17-29      79833   9198\n",
       "30-39     114930  10554\n",
       "40-49     114989   9286\n",
       "50-59      57104   5157\n",
       "60+        17514   1758"
      ]
     },
     "execution_count": 9,
     "metadata": {},
     "output_type": "execute_result"
    }
   ],
   "source": [
    "# Overall runners hitting the wall per age group\n",
    "htw_tab"
   ]
  },
  {
   "cell_type": "code",
   "execution_count": 10,
   "id": "b84a6806",
   "metadata": {},
   "outputs": [
    {
     "name": "stdout",
     "output_type": "stream",
     "text": [
      "Chi-squared (all) by age group, p:  1.955975541098763e-120\n"
     ]
    }
   ],
   "source": [
    "c, p, dof, expected = chi2_contingency(htw_tab) \n",
    "print(\"Chi-squared (all) by age group, p: \", p)"
   ]
  },
  {
   "cell_type": "code",
   "execution_count": 11,
   "id": "0b7660a1",
   "metadata": {},
   "outputs": [
    {
     "name": "stdout",
     "output_type": "stream",
     "text": [
      "Effect size for HTW between M/F within each age group\n",
      "Age Group 17-29 M vs. F:\n",
      " p:  1.6474952537552732e-191  OR:  1.978860548932631\n",
      "Age Group 30-39 M vs. F:\n",
      " p:  2.7750442515647507e-259  OR:  2.2882955190897842\n",
      "Age Group 40-49 M vs. F:\n",
      " p:  5.189780685309522e-208  OR:  2.2243309287758075\n",
      "Age Group 50-59 M vs. F:\n",
      " p:  2.5021991745757493e-54  OR:  1.7458132243052247\n",
      "Age Group 60+ M vs. F:\n",
      " p:  2.9065017297764597e-18  OR:  1.9359778559031087\n"
     ]
    }
   ],
   "source": [
    "# Effect sizes between men and women, within age group\n",
    "df1 = df.loc[df[\"AgeGroup\"] == \"17-29\"]\n",
    "df2 = df.loc[df[\"AgeGroup\"] == \"30-39\"]\n",
    "df3 = df.loc[df[\"AgeGroup\"] == \"40-49\"]\n",
    "df4 = df.loc[df[\"AgeGroup\"] == \"50-59\"]\n",
    "df5 = df.loc[df[\"AgeGroup\"] == \"60+\"]\n",
    "oddsr1, p1 = fisher_exact(pd.crosstab(df1['Gender'], df1['HTW']))\n",
    "oddsr2, p2 = fisher_exact(pd.crosstab(df2['Gender'], df2['HTW']))\n",
    "oddsr3, p3 = fisher_exact(pd.crosstab(df3['Gender'], df3['HTW']))\n",
    "oddsr4, p4 = fisher_exact(pd.crosstab(df4['Gender'], df4['HTW']))\n",
    "oddsr5, p5 = fisher_exact(pd.crosstab(df5['Gender'], df5['HTW']))\n",
    "#print(\"Difference between Male/Female within age group: \")\n",
    "print(\"Effect size for HTW between M/F within each age group\")\n",
    "print (\"Age Group 17-29 M vs. F:\\n p: \",p1, \" OR: \", oddsr1)\n",
    "print (\"Age Group 30-39 M vs. F:\\n p: \",p2, \" OR: \", oddsr2)\n",
    "print (\"Age Group 40-49 M vs. F:\\n p: \",p3, \" OR: \", oddsr3)\n",
    "print (\"Age Group 50-59 M vs. F:\\n p: \",p4, \" OR: \", oddsr4)\n",
    "print (\"Age Group 60+ M vs. F:\\n p: \",p5, \" OR: \", oddsr5)\n"
   ]
  },
  {
   "cell_type": "code",
   "execution_count": 12,
   "id": "3bb519ac",
   "metadata": {},
   "outputs": [
    {
     "name": "stdout",
     "output_type": "stream",
     "text": [
      "Effect size for HTW between consequtive age groups (F+M).\n",
      "Age Group 17-29 vs. 30-39:\n",
      " p:  1.8442832507110868e-51  OR:  0.797026438112674\n",
      "Age Group 30-39 vs. 40-49:\n",
      " p:  4.157398679773083e-18  OR:  0.8794045312221599\n",
      "Age Group 40-49 vs. 50-59:\n",
      " p:  7.933325469560573e-10  OR:  1.1182997263359846\n",
      "Age Group 50-59 vs. 60+:\n",
      " p:  0.00028888051472587795  OR:  1.1114832558452532\n"
     ]
    }
   ],
   "source": [
    "#Effect sizes between successive age groups\n",
    "g1 = df.loc[(df[\"AgeGroup\"] == \"17-29\") | (df[\"AgeGroup\"] == \"30-39\") ]\n",
    "g2 = df.loc[(df[\"AgeGroup\"] == \"30-39\") | (df[\"AgeGroup\"] == \"40-49\") ]\n",
    "g3 = df.loc[(df[\"AgeGroup\"] == \"40-49\") | (df[\"AgeGroup\"] == \"50-59\") ]\n",
    "g4 = df.loc[(df[\"AgeGroup\"] == \"50-59\") | (df[\"AgeGroup\"] == \"60+\") ]\n",
    "\n",
    "oddsr1, p1 = fisher_exact(pd.crosstab(g1[\"AgeGroup\"],g1[\"HTW\"]))\n",
    "oddsr2, p2 = fisher_exact(pd.crosstab(g2[\"AgeGroup\"],g2[\"HTW\"]))\n",
    "oddsr3, p3 = fisher_exact(pd.crosstab(g3[\"AgeGroup\"],g3[\"HTW\"]))\n",
    "oddsr4, p4 = fisher_exact(pd.crosstab(g4[\"AgeGroup\"],g4[\"HTW\"]))\n",
    "print(\"Effect size for HTW between consequtive age groups (F+M).\")\n",
    "print (\"Age Group 17-29 vs. 30-39:\\n p: \",p1, \" OR: \", oddsr1)\n",
    "print (\"Age Group 30-39 vs. 40-49:\\n p: \",p2, \" OR: \", oddsr2)\n",
    "print (\"Age Group 40-49 vs. 50-59:\\n p: \",p3, \" OR: \", oddsr3)\n",
    "print (\"Age Group 50-59 vs. 60+:\\n p: \",p4, \" OR: \", oddsr4)\n"
   ]
  },
  {
   "cell_type": "code",
   "execution_count": 13,
   "id": "b684927f",
   "metadata": {},
   "outputs": [
    {
     "name": "stdout",
     "output_type": "stream",
     "text": [
      "Effect size for HTW between consequtive age groups (F only).\n",
      "Age Group 17-29 vs. 30-39:\n",
      " p:  8.604064034396752e-43  OR:  0.6605223904972399\n",
      "Age Group 30-39 vs. 40-49:\n",
      " p:  0.0005722777015625179  OR:  0.8889189990261253\n",
      "Age Group 40-49 vs. 50-59:\n",
      " p:  6.18639820700976e-11  OR:  1.3248724699687346\n",
      "Age Group 50-59 vs. 60+:\n",
      " p:  0.7391330695303394  OR:  0.9699021506812717\n"
     ]
    }
   ],
   "source": [
    "#Effect sizes between successive age groups, female only\n",
    "f_df = (df.loc[df[\"Gender\"] == \"F\"])\n",
    "g1 = f_df.loc[(f_df[\"AgeGroup\"] == \"17-29\") | (f_df[\"AgeGroup\"] == \"30-39\") ]\n",
    "g2 = f_df.loc[(f_df[\"AgeGroup\"] == \"30-39\") | (f_df[\"AgeGroup\"] == \"40-49\") ]\n",
    "g3 = f_df.loc[(f_df[\"AgeGroup\"] == \"40-49\") | (f_df[\"AgeGroup\"] == \"50-59\") ]\n",
    "g4 = f_df.loc[(f_df[\"AgeGroup\"] == \"50-59\") | (f_df[\"AgeGroup\"] == \"60+\") ]\n",
    "\n",
    "oddsr1, p1 = fisher_exact(pd.crosstab(g1[\"AgeGroup\"],g1[\"HTW\"]))\n",
    "oddsr2, p2 = fisher_exact(pd.crosstab(g2[\"AgeGroup\"],g2[\"HTW\"]))\n",
    "oddsr3, p3 = fisher_exact(pd.crosstab(g3[\"AgeGroup\"],g3[\"HTW\"]))\n",
    "oddsr4, p4 = fisher_exact(pd.crosstab(g4[\"AgeGroup\"],g4[\"HTW\"]))\n",
    "print(\"Effect size for HTW between consequtive age groups (F only).\")\n",
    "print (\"Age Group 17-29 vs. 30-39:\\n p: \",p1, \" OR: \", oddsr1)\n",
    "print (\"Age Group 30-39 vs. 40-49:\\n p: \",p2, \" OR: \", oddsr2)\n",
    "print (\"Age Group 40-49 vs. 50-59:\\n p: \",p3, \" OR: \", oddsr3)\n",
    "print (\"Age Group 50-59 vs. 60+:\\n p: \",p4, \" OR: \", oddsr4)"
   ]
  },
  {
   "cell_type": "code",
   "execution_count": 14,
   "id": "09711aaf",
   "metadata": {},
   "outputs": [
    {
     "name": "stdout",
     "output_type": "stream",
     "text": [
      "Female 17-29 vs 40-49:\n",
      "\n",
      "p:  5.5167562182057243e-64\n",
      "OR:  0.58715090219515\n"
     ]
    }
   ],
   "source": [
    "# Effect size between 17-29 and 40-49 groups for females, where we have largest differences.\n",
    "g = f_df.loc[(f_df[\"AgeGroup\"] == \"17-29\") | (f_df[\"AgeGroup\"] == \"40-49\") ]\n",
    "oddsr1, p1 = fisher_exact(pd.crosstab(g[\"AgeGroup\"],g[\"HTW\"]))\n",
    "print(\"Female 17-29 vs 40-49:\\n\")\n",
    "print(\"p: \",p1)\n",
    "print(\"OR: \",oddsr1)"
   ]
  },
  {
   "cell_type": "code",
   "execution_count": 15,
   "id": "bd0194a0",
   "metadata": {},
   "outputs": [
    {
     "name": "stdout",
     "output_type": "stream",
     "text": [
      "Effect size for HTW between consequtive age groups (M only).\n",
      "Age Group 17-29 vs. 30-39:\n",
      " p:  1.27518532304456e-52  OR:  0.7638084589884682\n",
      "Age Group 30-39 vs. 40-49:\n",
      " p:  9.370911033589651e-19  OR:  0.8640710984290758\n",
      "Age Group 40-49 vs. 50-59:\n",
      " p:  0.05270217948188681  OR:  1.0398542090417837\n",
      "Age Group 50-59 vs. 60+:\n",
      " p:  0.01990636204899734  OR:  1.075549812528776\n"
     ]
    }
   ],
   "source": [
    "#Effect sizes between successive age groups, male only\n",
    "m_df = (df.loc[df[\"Gender\"] == \"M\"])\n",
    "g1 = m_df.loc[(m_df[\"AgeGroup\"] == \"17-29\") | (m_df[\"AgeGroup\"] == \"30-39\") ]\n",
    "g2 = m_df.loc[(m_df[\"AgeGroup\"] == \"30-39\") | (m_df[\"AgeGroup\"] == \"40-49\") ]\n",
    "g3 = m_df.loc[(m_df[\"AgeGroup\"] == \"40-49\") | (m_df[\"AgeGroup\"] == \"50-59\") ]\n",
    "g4 = m_df.loc[(m_df[\"AgeGroup\"] == \"50-59\") | (m_df[\"AgeGroup\"] == \"60+\") ]\n",
    "\n",
    "oddsr1, p1 = fisher_exact(pd.crosstab(g1[\"AgeGroup\"],g1[\"HTW\"]))\n",
    "oddsr2, p2 = fisher_exact(pd.crosstab(g2[\"AgeGroup\"],g2[\"HTW\"]))\n",
    "oddsr3, p3 = fisher_exact(pd.crosstab(g3[\"AgeGroup\"],g3[\"HTW\"]))\n",
    "oddsr4, p4 = fisher_exact(pd.crosstab(g4[\"AgeGroup\"],g4[\"HTW\"]))\n",
    "\n",
    "print(\"Effect size for HTW between consequtive age groups (M only).\")\n",
    "print (\"Age Group 17-29 vs. 30-39:\\n p: \",p1, \" OR: \", oddsr1)\n",
    "print (\"Age Group 30-39 vs. 40-49:\\n p: \",p2, \" OR: \", oddsr2)\n",
    "print (\"Age Group 40-49 vs. 50-59:\\n p: \",p3, \" OR: \", oddsr3)\n",
    "print (\"Age Group 50-59 vs. 60+:\\n p: \",p4, \" OR: \", oddsr4)\n"
   ]
  },
  {
   "cell_type": "code",
   "execution_count": 16,
   "id": "b5b06dd7",
   "metadata": {},
   "outputs": [
    {
     "name": "stdout",
     "output_type": "stream",
     "text": [
      "Male 17-29 vs 40-49:\n",
      "\n",
      "p:  4.94315278868589e-117\n",
      "OR:  0.6599848141475854\n"
     ]
    }
   ],
   "source": [
    "# Effect size between 17-29 and 40-49 for males, where we have largest differences.\n",
    "g = m_df.loc[(m_df[\"AgeGroup\"] == \"17-29\") | (m_df[\"AgeGroup\"] == \"40-49\") ]\n",
    "oddsr1, p1 = fisher_exact(pd.crosstab(g[\"AgeGroup\"],g[\"HTW\"]))\n",
    "print(\"Male 17-29 vs 40-49:\\n\")\n",
    "print(\"p: \",p1)\n",
    "print(\"OR: \",oddsr1)"
   ]
  },
  {
   "cell_type": "markdown",
   "id": "f4a3d325",
   "metadata": {},
   "source": [
    "## Analysis of runner pacing well: running a negative or equal split."
   ]
  },
  {
   "cell_type": "code",
   "execution_count": 17,
   "id": "77fd394b",
   "metadata": {},
   "outputs": [],
   "source": [
    "splits_tab = pd.crosstab(df['AgeGroup'], df['SplitRatio'] <= 1)\n",
    "f_splits_tab = pd.crosstab((df.loc[df[\"Gender\"] == \"F\"])[\"AgeGroup\"], df['SplitRatio'] <= 1)\n",
    "m_splits_tab = pd.crosstab((df.loc[df[\"Gender\"] == \"M\"])[\"AgeGroup\"], df['SplitRatio'] <= 1)"
   ]
  },
  {
   "cell_type": "code",
   "execution_count": 18,
   "id": "35b31267",
   "metadata": {},
   "outputs": [
    {
     "data": {
      "text/html": [
       "<div>\n",
       "<style scoped>\n",
       "    .dataframe tbody tr th:only-of-type {\n",
       "        vertical-align: middle;\n",
       "    }\n",
       "\n",
       "    .dataframe tbody tr th {\n",
       "        vertical-align: top;\n",
       "    }\n",
       "\n",
       "    .dataframe thead th {\n",
       "        text-align: right;\n",
       "    }\n",
       "</style>\n",
       "<table border=\"1\" class=\"dataframe\">\n",
       "  <thead>\n",
       "    <tr style=\"text-align: right;\">\n",
       "      <th>SplitRatio</th>\n",
       "      <th>False</th>\n",
       "      <th>True</th>\n",
       "    </tr>\n",
       "    <tr>\n",
       "      <th>AgeGroup</th>\n",
       "      <th></th>\n",
       "      <th></th>\n",
       "    </tr>\n",
       "  </thead>\n",
       "  <tbody>\n",
       "    <tr>\n",
       "      <th>17-29</th>\n",
       "      <td>34451</td>\n",
       "      <td>4849</td>\n",
       "    </tr>\n",
       "    <tr>\n",
       "      <th>30-39</th>\n",
       "      <td>37147</td>\n",
       "      <td>4173</td>\n",
       "    </tr>\n",
       "    <tr>\n",
       "      <th>40-49</th>\n",
       "      <td>35924</td>\n",
       "      <td>3014</td>\n",
       "    </tr>\n",
       "    <tr>\n",
       "      <th>50-59</th>\n",
       "      <td>15718</td>\n",
       "      <td>770</td>\n",
       "    </tr>\n",
       "    <tr>\n",
       "      <th>60+</th>\n",
       "      <td>3232</td>\n",
       "      <td>99</td>\n",
       "    </tr>\n",
       "  </tbody>\n",
       "</table>\n",
       "</div>"
      ],
      "text/plain": [
       "SplitRatio  False  True\n",
       "AgeGroup               \n",
       "17-29       34451  4849\n",
       "30-39       37147  4173\n",
       "40-49       35924  3014\n",
       "50-59       15718   770\n",
       "60+          3232    99"
      ]
     },
     "execution_count": 18,
     "metadata": {},
     "output_type": "execute_result"
    }
   ],
   "source": [
    "# Female negative splits per age group\n",
    "f_splits_tab"
   ]
  },
  {
   "cell_type": "code",
   "execution_count": 19,
   "id": "6ac3af10",
   "metadata": {},
   "outputs": [
    {
     "name": "stdout",
     "output_type": "stream",
     "text": [
      "Chi-squared female negatice splits per age group, p:  8.558705866172767e-249\n"
     ]
    }
   ],
   "source": [
    "c, p, dof, expected = chi2_contingency(f_splits_tab) \n",
    "print(\"Chi-squared female negatice splits per age group, p: \", p)"
   ]
  },
  {
   "cell_type": "code",
   "execution_count": 20,
   "id": "9b2cf87c",
   "metadata": {},
   "outputs": [
    {
     "data": {
      "text/html": [
       "<div>\n",
       "<style scoped>\n",
       "    .dataframe tbody tr th:only-of-type {\n",
       "        vertical-align: middle;\n",
       "    }\n",
       "\n",
       "    .dataframe tbody tr th {\n",
       "        vertical-align: top;\n",
       "    }\n",
       "\n",
       "    .dataframe thead th {\n",
       "        text-align: right;\n",
       "    }\n",
       "</style>\n",
       "<table border=\"1\" class=\"dataframe\">\n",
       "  <thead>\n",
       "    <tr style=\"text-align: right;\">\n",
       "      <th>SplitRatio</th>\n",
       "      <th>False</th>\n",
       "      <th>True</th>\n",
       "    </tr>\n",
       "    <tr>\n",
       "      <th>AgeGroup</th>\n",
       "      <th></th>\n",
       "      <th></th>\n",
       "    </tr>\n",
       "  </thead>\n",
       "  <tbody>\n",
       "    <tr>\n",
       "      <th>17-29</th>\n",
       "      <td>42409</td>\n",
       "      <td>7322</td>\n",
       "    </tr>\n",
       "    <tr>\n",
       "      <th>30-39</th>\n",
       "      <td>74372</td>\n",
       "      <td>9792</td>\n",
       "    </tr>\n",
       "    <tr>\n",
       "      <th>40-49</th>\n",
       "      <td>77684</td>\n",
       "      <td>7653</td>\n",
       "    </tr>\n",
       "    <tr>\n",
       "      <th>50-59</th>\n",
       "      <td>42892</td>\n",
       "      <td>2881</td>\n",
       "    </tr>\n",
       "    <tr>\n",
       "      <th>60+</th>\n",
       "      <td>15241</td>\n",
       "      <td>700</td>\n",
       "    </tr>\n",
       "  </tbody>\n",
       "</table>\n",
       "</div>"
      ],
      "text/plain": [
       "SplitRatio  False  True\n",
       "AgeGroup               \n",
       "17-29       42409  7322\n",
       "30-39       74372  9792\n",
       "40-49       77684  7653\n",
       "50-59       42892  2881\n",
       "60+         15241   700"
      ]
     },
     "execution_count": 20,
     "metadata": {},
     "output_type": "execute_result"
    }
   ],
   "source": [
    "# Male negative splits per age group\n",
    "m_splits_tab"
   ]
  },
  {
   "cell_type": "code",
   "execution_count": 21,
   "id": "a8808ff0",
   "metadata": {},
   "outputs": [
    {
     "name": "stdout",
     "output_type": "stream",
     "text": [
      "Chi-squared male negative splits per age group, p:  0.0\n"
     ]
    }
   ],
   "source": [
    "c, p, dof, expected = chi2_contingency(m_splits_tab) \n",
    "print(\"Chi-squared male negative splits per age group, p: \",p)"
   ]
  },
  {
   "cell_type": "code",
   "execution_count": 22,
   "id": "5719eb56",
   "metadata": {},
   "outputs": [
    {
     "data": {
      "text/html": [
       "<div>\n",
       "<style scoped>\n",
       "    .dataframe tbody tr th:only-of-type {\n",
       "        vertical-align: middle;\n",
       "    }\n",
       "\n",
       "    .dataframe tbody tr th {\n",
       "        vertical-align: top;\n",
       "    }\n",
       "\n",
       "    .dataframe thead th {\n",
       "        text-align: right;\n",
       "    }\n",
       "</style>\n",
       "<table border=\"1\" class=\"dataframe\">\n",
       "  <thead>\n",
       "    <tr style=\"text-align: right;\">\n",
       "      <th>SplitRatio</th>\n",
       "      <th>False</th>\n",
       "      <th>True</th>\n",
       "    </tr>\n",
       "    <tr>\n",
       "      <th>AgeGroup</th>\n",
       "      <th></th>\n",
       "      <th></th>\n",
       "    </tr>\n",
       "  </thead>\n",
       "  <tbody>\n",
       "    <tr>\n",
       "      <th>17-29</th>\n",
       "      <td>76860</td>\n",
       "      <td>12171</td>\n",
       "    </tr>\n",
       "    <tr>\n",
       "      <th>30-39</th>\n",
       "      <td>111519</td>\n",
       "      <td>13965</td>\n",
       "    </tr>\n",
       "    <tr>\n",
       "      <th>40-49</th>\n",
       "      <td>113608</td>\n",
       "      <td>10667</td>\n",
       "    </tr>\n",
       "    <tr>\n",
       "      <th>50-59</th>\n",
       "      <td>58610</td>\n",
       "      <td>3651</td>\n",
       "    </tr>\n",
       "    <tr>\n",
       "      <th>60+</th>\n",
       "      <td>18473</td>\n",
       "      <td>799</td>\n",
       "    </tr>\n",
       "  </tbody>\n",
       "</table>\n",
       "</div>"
      ],
      "text/plain": [
       "SplitRatio   False   True\n",
       "AgeGroup                 \n",
       "17-29        76860  12171\n",
       "30-39       111519  13965\n",
       "40-49       113608  10667\n",
       "50-59        58610   3651\n",
       "60+          18473    799"
      ]
     },
     "execution_count": 22,
     "metadata": {},
     "output_type": "execute_result"
    }
   ],
   "source": [
    "# Overall negative splits per age group\n",
    "splits_tab"
   ]
  },
  {
   "cell_type": "code",
   "execution_count": 23,
   "id": "3bd14513",
   "metadata": {},
   "outputs": [
    {
     "name": "stdout",
     "output_type": "stream",
     "text": [
      "Chi-squared all runners negative splits per age group, p:  0.0\n"
     ]
    }
   ],
   "source": [
    "c, p, dof, expected = chi2_contingency(splits_tab) \n",
    "print(\"Chi-squared all runners negative splits per age group, p: \",p)"
   ]
  },
  {
   "cell_type": "code",
   "execution_count": 24,
   "id": "27948e0d",
   "metadata": {},
   "outputs": [
    {
     "name": "stdout",
     "output_type": "stream",
     "text": [
      "Effect size for Negative Split between M/F within each age group\n",
      "Age Group 17-29 M vs. F:\n",
      " p:  6.327592315403746e-25  OR:  1.2266519146322405\n",
      "Age Group 30-39 M vs. F:\n",
      " p:  2.8885770635229154e-16  OR:  1.172026159671495\n",
      "Age Group 40-49 M vs. F:\n",
      " p:  5.267760069681919e-13  OR:  1.1741986412412397\n",
      "Age Group 50-59 M vs. F:\n",
      " p:  8.311889480682368e-15  OR:  1.3711138576987687\n",
      "Age Group 60+ M vs. F:\n",
      " p:  0.0001275621518623354  OR:  1.4994111444475593\n"
     ]
    }
   ],
   "source": [
    "# Effect sizes between men and women, within age group\n",
    "\n",
    "df1 = df.loc[df[\"AgeGroup\"] == \"17-29\"]\n",
    "df2 = df.loc[df[\"AgeGroup\"] == \"30-39\"]\n",
    "df3 = df.loc[df[\"AgeGroup\"] == \"40-49\"]\n",
    "df4 = df.loc[df[\"AgeGroup\"] == \"50-59\"]\n",
    "df5 = df.loc[df[\"AgeGroup\"] == \"60+\"]\n",
    "oddsr1, p1 = fisher_exact(pd.crosstab(df1['Gender'], df1['SplitRatio'] <= 1))\n",
    "oddsr2, p2 = fisher_exact(pd.crosstab(df2['Gender'], df2['SplitRatio'] <= 1))\n",
    "oddsr3, p3 = fisher_exact(pd.crosstab(df3['Gender'], df3['SplitRatio'] <= 1))\n",
    "oddsr4, p4 = fisher_exact(pd.crosstab(df4['Gender'], df4['SplitRatio'] <= 1))\n",
    "oddsr5, p5 = fisher_exact(pd.crosstab(df5['Gender'], df5['SplitRatio'] <= 1))\n",
    "print(\"Effect size for Negative Split between M/F within each age group\")\n",
    "print (\"Age Group 17-29 M vs. F:\\n p: \",p1, \" OR: \", oddsr1)\n",
    "print (\"Age Group 30-39 M vs. F:\\n p: \",p2, \" OR: \", oddsr2)\n",
    "print (\"Age Group 40-49 M vs. F:\\n p: \",p3, \" OR: \", oddsr3)\n",
    "print (\"Age Group 50-59 M vs. F:\\n p: \",p4, \" OR: \", oddsr4)\n",
    "print (\"Age Group 60+ M vs. F:\\n p: \",p5, \" OR: \", oddsr5)\n"
   ]
  },
  {
   "cell_type": "code",
   "execution_count": 25,
   "id": "307c79f4",
   "metadata": {},
   "outputs": [
    {
     "name": "stdout",
     "output_type": "stream",
     "text": [
      "Effect size for Negative Split between consequtive age groups (F+M).\n",
      "Age Group 17-29 vs. 30-39:\n",
      " p:  9.04047385903589e-70  OR:  0.7907991454275962\n",
      "Age Group 30-39 vs. 40-49:\n",
      " p:  3.0403979217925753e-101  OR:  0.7497928713511726\n",
      "Age Group 40-49 vs. 50-59:\n",
      " p:  3.6240509276245927e-100  OR:  0.6634477581294234\n",
      "Age Group 50-59 vs. 60+:\n",
      " p:  3.916675395737675e-21  OR:  0.6943352874759751\n"
     ]
    }
   ],
   "source": [
    "# Effect sizes between age groups\n",
    "g1 = df.loc[(df[\"AgeGroup\"] == \"17-29\") | (df[\"AgeGroup\"] == \"30-39\") ]\n",
    "g2 = df.loc[(df[\"AgeGroup\"] == \"30-39\") | (df[\"AgeGroup\"] == \"40-49\") ]\n",
    "g3 = df.loc[(df[\"AgeGroup\"] == \"40-49\") | (df[\"AgeGroup\"] == \"50-59\") ]\n",
    "g4 = df.loc[(df[\"AgeGroup\"] == \"50-59\") | (df[\"AgeGroup\"] == \"60+\") ]\n",
    "htw_tab1 = pd.crosstab(g4[\"AgeGroup\"], df['HTW'])\n",
    "\n",
    "oddsr1, p1 = fisher_exact(pd.crosstab(g1[\"AgeGroup\"],g1['SplitRatio'] <= 1))\n",
    "oddsr2, p2 = fisher_exact(pd.crosstab(g2[\"AgeGroup\"],g2['SplitRatio'] <= 1))\n",
    "oddsr3, p3 = fisher_exact(pd.crosstab(g3[\"AgeGroup\"],g3['SplitRatio'] <= 1))\n",
    "oddsr4, p4 = fisher_exact(pd.crosstab(g4[\"AgeGroup\"],g4['SplitRatio'] <= 1))\n",
    "print(\"Effect size for Negative Split between consequtive age groups (F+M).\")\n",
    "print (\"Age Group 17-29 vs. 30-39:\\n p: \",p1, \" OR: \", oddsr1)\n",
    "print (\"Age Group 30-39 vs. 40-49:\\n p: \",p2, \" OR: \", oddsr2)\n",
    "print (\"Age Group 40-49 vs. 50-59:\\n p: \",p3, \" OR: \", oddsr3)\n",
    "print (\"Age Group 50-59 vs. 60+:\\n p: \",p4, \" OR: \", oddsr4)\n"
   ]
  },
  {
   "cell_type": "code",
   "execution_count": 26,
   "id": "1bcbf5fb",
   "metadata": {},
   "outputs": [
    {
     "name": "stdout",
     "output_type": "stream",
     "text": [
      "Effect size for Negative Split between consequtive age groups (F only).\n",
      "Age Group 17-29 vs. 30-39:\n",
      " p:  7.049468683382514e-24  OR:  0.798131198338086\n",
      "Age Group 30-39 vs. 40-49:\n",
      " p:  1.0651855290240096e-31  OR:  0.7468509217731616\n",
      "Age Group 40-49 vs. 50-59:\n",
      " p:  9.146643315814892e-42  OR:  0.5838951669154245\n",
      "Age Group 50-59 vs. 60+:\n",
      " p:  6.3866926537615255e-06  OR:  0.6252740452616691\n"
     ]
    }
   ],
   "source": [
    "# Effect sizes between age groups female only.\n",
    "f_df = (df.loc[df[\"Gender\"] == \"F\"])\n",
    "g1 = f_df.loc[(f_df[\"AgeGroup\"] == \"17-29\") | (f_df[\"AgeGroup\"] == \"30-39\") ]\n",
    "g2 = f_df.loc[(f_df[\"AgeGroup\"] == \"30-39\") | (f_df[\"AgeGroup\"] == \"40-49\") ]\n",
    "g3 = f_df.loc[(f_df[\"AgeGroup\"] == \"40-49\") | (f_df[\"AgeGroup\"] == \"50-59\") ]\n",
    "g4 = f_df.loc[(f_df[\"AgeGroup\"] == \"50-59\") | (f_df[\"AgeGroup\"] == \"60+\") ]\n",
    "\n",
    "oddsr1, p1 = fisher_exact(pd.crosstab(g1[\"AgeGroup\"],g1['SplitRatio'] <= 1))\n",
    "oddsr2, p2 = fisher_exact(pd.crosstab(g2[\"AgeGroup\"],g2['SplitRatio'] <= 1))\n",
    "oddsr3, p3 = fisher_exact(pd.crosstab(g3[\"AgeGroup\"],g3['SplitRatio'] <= 1))\n",
    "oddsr4, p4 = fisher_exact(pd.crosstab(g4[\"AgeGroup\"],g4['SplitRatio'] <= 1))\n",
    "\n",
    "print(\"Effect size for Negative Split between consequtive age groups (F only).\")\n",
    "print (\"Age Group 17-29 vs. 30-39:\\n p: \",p1, \" OR: \", oddsr1)\n",
    "print (\"Age Group 30-39 vs. 40-49:\\n p: \",p2, \" OR: \", oddsr2)\n",
    "print (\"Age Group 40-49 vs. 50-59:\\n p: \",p3, \" OR: \", oddsr3)\n",
    "print (\"Age Group 50-59 vs. 60+:\\n p: \",p4, \" OR: \", oddsr4)"
   ]
  },
  {
   "cell_type": "code",
   "execution_count": 27,
   "id": "99d5247a",
   "metadata": {},
   "outputs": [
    {
     "name": "stdout",
     "output_type": "stream",
     "text": [
      "Effect size for Negative Split between consequtive age groups (M only).\n",
      "Age Group 17-29 vs. 30-39:\n",
      " p:  3.173761322558781e-59  OR:  0.7625884997559754\n",
      "Age Group 30-39 vs. 40-49:\n",
      " p:  4.5356937185736234e-73  OR:  0.7482352934866341\n",
      "Age Group 40-49 vs. 50-59:\n",
      " p:  6.641758363870426e-67  OR:  0.6818154328255547\n",
      "Age Group 50-59 vs. 60+:\n",
      " p:  1.0258060794659224e-19  OR:  0.6837819241158386\n"
     ]
    }
   ],
   "source": [
    "# Effect sizes between age groups male only\n",
    "m_df = (df.loc[df[\"Gender\"] == \"M\"])\n",
    "g1 = m_df.loc[(m_df[\"AgeGroup\"] == \"17-29\") | (m_df[\"AgeGroup\"] == \"30-39\") ]\n",
    "g2 = m_df.loc[(m_df[\"AgeGroup\"] == \"30-39\") | (m_df[\"AgeGroup\"] == \"40-49\") ]\n",
    "g3 = m_df.loc[(m_df[\"AgeGroup\"] == \"40-49\") | (m_df[\"AgeGroup\"] == \"50-59\") ]\n",
    "g4 = m_df.loc[(m_df[\"AgeGroup\"] == \"50-59\") | (m_df[\"AgeGroup\"] == \"60+\") ]\n",
    "\n",
    "oddsr1, p1 = fisher_exact(pd.crosstab(g1[\"AgeGroup\"],g1['SplitRatio'] <= 1))\n",
    "oddsr2, p2 = fisher_exact(pd.crosstab(g2[\"AgeGroup\"],g2['SplitRatio'] <= 1))\n",
    "oddsr3, p3 = fisher_exact(pd.crosstab(g3[\"AgeGroup\"],g3['SplitRatio'] <= 1))\n",
    "oddsr4, p4 = fisher_exact(pd.crosstab(g4[\"AgeGroup\"],g4['SplitRatio'] <= 1))\n",
    "\n",
    "print(\"Effect size for Negative Split between consequtive age groups (M only).\")\n",
    "print (\"Age Group 17-29 vs. 30-39:\\n p: \",p1, \" OR: \", oddsr1)\n",
    "print (\"Age Group 30-39 vs. 40-49:\\n p: \",p2, \" OR: \", oddsr2)\n",
    "print (\"Age Group 40-49 vs. 50-59:\\n p: \",p3, \" OR: \", oddsr3)\n",
    "print (\"Age Group 50-59 vs. 60+:\\n p: \",p4, \" OR: \", oddsr4)"
   ]
  },
  {
   "cell_type": "code",
   "execution_count": null,
   "id": "d6efac96",
   "metadata": {},
   "outputs": [],
   "source": []
  }
 ],
 "metadata": {
  "kernelspec": {
   "display_name": "Python [conda env:root] *",
   "language": "python",
   "name": "conda-root-py"
  },
  "language_info": {
   "codemirror_mode": {
    "name": "ipython",
    "version": 3
   },
   "file_extension": ".py",
   "mimetype": "text/x-python",
   "name": "python",
   "nbconvert_exporter": "python",
   "pygments_lexer": "ipython3",
   "version": "3.9.7"
  }
 },
 "nbformat": 4,
 "nbformat_minor": 5
}
